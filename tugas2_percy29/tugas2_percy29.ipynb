{
 "cells": [
  {
   "cell_type": "markdown",
   "id": "89174fc2",
   "metadata": {},
   "source": [
    "# PYTHON OPERATORS"
   ]
  },
  {
   "cell_type": "markdown",
   "id": "634db5e0",
   "metadata": {},
   "source": [
    "## A. PYTHON ARITHMETIC OPERATORS"
   ]
  },
  {
   "cell_type": "markdown",
   "id": "9193d68b",
   "metadata": {},
   "source": [
    "- <h3><span style=\"color:blue\">ADDITION</span>.</h3>"
   ]
  },
  {
   "cell_type": "code",
   "execution_count": 1,
   "id": "09fa6318",
   "metadata": {},
   "outputs": [
    {
     "name": "stdout",
     "output_type": "stream",
     "text": [
      "8\n"
     ]
    }
   ],
   "source": [
    "x = 5\n",
    "y = 3\n",
    "print(x + y)"
   ]
  },
  {
   "cell_type": "markdown",
   "id": "efcbc490",
   "metadata": {},
   "source": [
    "- <h3><span style=\"color:blue\">SUBTRACTION</span>.</h3>"
   ]
  },
  {
   "cell_type": "code",
   "execution_count": 3,
   "id": "333eede3",
   "metadata": {},
   "outputs": [
    {
     "name": "stdout",
     "output_type": "stream",
     "text": [
      "2\n"
     ]
    }
   ],
   "source": [
    "print(x - y)"
   ]
  },
  {
   "cell_type": "markdown",
   "id": "46250aaf",
   "metadata": {},
   "source": [
    "- <h3><span style=\"color:blue\">MULTIPLICATION</span>.</h3>"
   ]
  },
  {
   "cell_type": "code",
   "execution_count": 4,
   "id": "834b3af7",
   "metadata": {},
   "outputs": [
    {
     "name": "stdout",
     "output_type": "stream",
     "text": [
      "15\n"
     ]
    }
   ],
   "source": [
    "print(x * y)"
   ]
  },
  {
   "cell_type": "markdown",
   "id": "b0e669b8",
   "metadata": {},
   "source": [
    "- <h3><span style=\"color:blue\">DIVISION</span>.</h3>"
   ]
  },
  {
   "cell_type": "code",
   "execution_count": 5,
   "id": "b2267cac",
   "metadata": {},
   "outputs": [
    {
     "name": "stdout",
     "output_type": "stream",
     "text": [
      "1.6666666666666667\n"
     ]
    }
   ],
   "source": [
    "print(x / y)"
   ]
  },
  {
   "cell_type": "markdown",
   "id": "2676a911",
   "metadata": {},
   "source": [
    "- <h3><span style=\"color:blue\">MODULUS</span>.</h3>"
   ]
  },
  {
   "cell_type": "code",
   "execution_count": 6,
   "id": "60c36f71",
   "metadata": {},
   "outputs": [
    {
     "name": "stdout",
     "output_type": "stream",
     "text": [
      "2\n"
     ]
    }
   ],
   "source": [
    "print(x % y)"
   ]
  },
  {
   "cell_type": "markdown",
   "id": "7868603e",
   "metadata": {},
   "source": [
    "- <h3><span style=\"color:blue\">EXPONENTIATION</span>.</h3>"
   ]
  },
  {
   "cell_type": "code",
   "execution_count": 7,
   "id": "c9defe3c",
   "metadata": {},
   "outputs": [
    {
     "name": "stdout",
     "output_type": "stream",
     "text": [
      "125\n"
     ]
    }
   ],
   "source": [
    "print(x ** y)"
   ]
  },
  {
   "cell_type": "markdown",
   "id": "6f944ac2",
   "metadata": {},
   "source": [
    "- <h3><span style=\"color:blue\">FLOOR DIVISION</span>.</h3>"
   ]
  },
  {
   "cell_type": "code",
   "execution_count": 8,
   "id": "8555a401",
   "metadata": {},
   "outputs": [
    {
     "name": "stdout",
     "output_type": "stream",
     "text": [
      "1\n"
     ]
    }
   ],
   "source": [
    "print(x // y)"
   ]
  },
  {
   "cell_type": "markdown",
   "id": "f358c13e",
   "metadata": {},
   "source": [
    "## B. PYTHON ASSIGNMENT OPERATOR"
   ]
  },
  {
   "cell_type": "code",
   "execution_count": 9,
   "id": "5da14975",
   "metadata": {},
   "outputs": [
    {
     "name": "stdout",
     "output_type": "stream",
     "text": [
      "5\n"
     ]
    }
   ],
   "source": [
    "x = 5\n",
    "print(x)"
   ]
  },
  {
   "cell_type": "code",
   "execution_count": 11,
   "id": "4f1369db",
   "metadata": {},
   "outputs": [
    {
     "name": "stdout",
     "output_type": "stream",
     "text": [
      "8\n"
     ]
    }
   ],
   "source": [
    "x = 5\n",
    "x += 3\n",
    "print(x)"
   ]
  },
  {
   "cell_type": "code",
   "execution_count": 12,
   "id": "08b187fa",
   "metadata": {},
   "outputs": [
    {
     "name": "stdout",
     "output_type": "stream",
     "text": [
      "2\n"
     ]
    }
   ],
   "source": [
    "x = 5\n",
    "x -= 3\n",
    "print(x)"
   ]
  },
  {
   "cell_type": "code",
   "execution_count": 13,
   "id": "37a23cc5",
   "metadata": {},
   "outputs": [
    {
     "name": "stdout",
     "output_type": "stream",
     "text": [
      "15\n"
     ]
    }
   ],
   "source": [
    "x = 5\n",
    "x *= 3\n",
    "print(x)"
   ]
  },
  {
   "cell_type": "code",
   "execution_count": 15,
   "id": "f215da52",
   "metadata": {},
   "outputs": [
    {
     "name": "stdout",
     "output_type": "stream",
     "text": [
      "1.6666666666666667\n"
     ]
    }
   ],
   "source": [
    "x = 5\n",
    "x /= 3\n",
    "print(x)"
   ]
  },
  {
   "cell_type": "code",
   "execution_count": 16,
   "id": "d084ed33",
   "metadata": {},
   "outputs": [
    {
     "name": "stdout",
     "output_type": "stream",
     "text": [
      "2\n"
     ]
    }
   ],
   "source": [
    "x = 5\n",
    "x %= 3\n",
    "print(x)"
   ]
  },
  {
   "cell_type": "code",
   "execution_count": 17,
   "id": "74d412ba",
   "metadata": {},
   "outputs": [
    {
     "name": "stdout",
     "output_type": "stream",
     "text": [
      "125\n"
     ]
    }
   ],
   "source": [
    "x = 5\n",
    "x **= 3\n",
    "print(x)"
   ]
  },
  {
   "cell_type": "code",
   "execution_count": 18,
   "id": "1cb6a024",
   "metadata": {},
   "outputs": [
    {
     "name": "stdout",
     "output_type": "stream",
     "text": [
      "1\n"
     ]
    }
   ],
   "source": [
    "x = 5\n",
    "x //= 3\n",
    "print(x)"
   ]
  },
  {
   "cell_type": "code",
   "execution_count": 21,
   "id": "cd674b47",
   "metadata": {},
   "outputs": [
    {
     "name": "stdout",
     "output_type": "stream",
     "text": [
      "1\n"
     ]
    }
   ],
   "source": [
    "x = 5\n",
    "x &= 3\n",
    "print(x)"
   ]
  },
  {
   "cell_type": "code",
   "execution_count": 22,
   "id": "556f6e39",
   "metadata": {},
   "outputs": [
    {
     "name": "stdout",
     "output_type": "stream",
     "text": [
      "7\n"
     ]
    }
   ],
   "source": [
    "x = 5\n",
    "x |= 3\n",
    "print(x)"
   ]
  },
  {
   "cell_type": "code",
   "execution_count": 23,
   "id": "4807a72f",
   "metadata": {},
   "outputs": [
    {
     "name": "stdout",
     "output_type": "stream",
     "text": [
      "6\n"
     ]
    }
   ],
   "source": [
    "x = 5\n",
    "x ^= 3\n",
    "print(x)"
   ]
  },
  {
   "cell_type": "code",
   "execution_count": 24,
   "id": "5968d45c",
   "metadata": {},
   "outputs": [
    {
     "name": "stdout",
     "output_type": "stream",
     "text": [
      "0\n"
     ]
    }
   ],
   "source": [
    "x = 5\n",
    "x >>= 3\n",
    "print(x)"
   ]
  },
  {
   "cell_type": "code",
   "execution_count": 25,
   "id": "8bb83025",
   "metadata": {},
   "outputs": [
    {
     "name": "stdout",
     "output_type": "stream",
     "text": [
      "40\n"
     ]
    }
   ],
   "source": [
    "x = 5\n",
    "x <<= 3\n",
    "print(x)"
   ]
  },
  {
   "cell_type": "markdown",
   "id": "746fa2aa",
   "metadata": {},
   "source": [
    "## C. PYTHON COMPARISON OPERATORS"
   ]
  },
  {
   "cell_type": "markdown",
   "id": "1d51edd7",
   "metadata": {},
   "source": [
    "- <h3><span style=\"color:blue\">EQUAL</span>.</h3>"
   ]
  },
  {
   "cell_type": "code",
   "execution_count": 27,
   "id": "896e2c1c",
   "metadata": {},
   "outputs": [
    {
     "name": "stdout",
     "output_type": "stream",
     "text": [
      "False\n"
     ]
    }
   ],
   "source": [
    "x = 5\n",
    "y = 3\n",
    "print(x == y) #karena x tidak sama dengan y"
   ]
  },
  {
   "cell_type": "markdown",
   "id": "e4962534",
   "metadata": {},
   "source": [
    "- <h3><span style=\"color:blue\">NOT EQUAL</span>.</h3>"
   ]
  },
  {
   "cell_type": "code",
   "execution_count": 28,
   "id": "c054a341",
   "metadata": {},
   "outputs": [
    {
     "name": "stdout",
     "output_type": "stream",
     "text": [
      "True\n"
     ]
    }
   ],
   "source": [
    "print( x!=y)"
   ]
  },
  {
   "cell_type": "markdown",
   "id": "0a4e7284",
   "metadata": {},
   "source": [
    "- <h3><span style=\"color:blue\">Greater than</span>.</h3>"
   ]
  },
  {
   "cell_type": "code",
   "execution_count": 30,
   "id": "c929983d",
   "metadata": {},
   "outputs": [
    {
     "name": "stdout",
     "output_type": "stream",
     "text": [
      "True\n"
     ]
    }
   ],
   "source": [
    "print(x > y)"
   ]
  },
  {
   "cell_type": "markdown",
   "id": "7cf74c31",
   "metadata": {},
   "source": [
    "- <h3><span style=\"color:blue\">Less than</span>.</h3>"
   ]
  },
  {
   "cell_type": "code",
   "execution_count": 31,
   "id": "00b626f6",
   "metadata": {},
   "outputs": [
    {
     "name": "stdout",
     "output_type": "stream",
     "text": [
      "False\n"
     ]
    }
   ],
   "source": [
    "print(x < y)"
   ]
  },
  {
   "cell_type": "markdown",
   "id": "b444ce00",
   "metadata": {},
   "source": [
    "- <h3><span style=\"color:blue\">Greater than or equal to</span>.</h3>"
   ]
  },
  {
   "cell_type": "code",
   "execution_count": 32,
   "id": "6652ed7c",
   "metadata": {},
   "outputs": [
    {
     "name": "stdout",
     "output_type": "stream",
     "text": [
      "True\n"
     ]
    }
   ],
   "source": [
    "print(x >= y)"
   ]
  },
  {
   "cell_type": "markdown",
   "id": "ce5e9f85",
   "metadata": {},
   "source": [
    "- <h3><span style=\"color:blue\">Less than or equal to</span>.</h3>"
   ]
  },
  {
   "cell_type": "code",
   "execution_count": 34,
   "id": "203b4bc7",
   "metadata": {},
   "outputs": [
    {
     "name": "stdout",
     "output_type": "stream",
     "text": [
      "False\n"
     ]
    }
   ],
   "source": [
    "print(x <= y)"
   ]
  },
  {
   "cell_type": "markdown",
   "id": "ea7949ec",
   "metadata": {},
   "source": [
    "## D. PYTHON LOGICAL OPERATORS"
   ]
  },
  {
   "cell_type": "markdown",
   "id": "7df505d4",
   "metadata": {},
   "source": [
    "- <h3><span style=\"color:blue\">AND</span>.</h3>"
   ]
  },
  {
   "cell_type": "code",
   "execution_count": 36,
   "id": "50c6c716",
   "metadata": {},
   "outputs": [
    {
     "name": "stdout",
     "output_type": "stream",
     "text": [
      "True\n"
     ]
    }
   ],
   "source": [
    "x = 5\n",
    "print(x > 3 and x < 10)"
   ]
  },
  {
   "cell_type": "markdown",
   "id": "0c2d6136",
   "metadata": {},
   "source": [
    "Bernilai benar, apabila semua kondisinya benar"
   ]
  },
  {
   "cell_type": "markdown",
   "id": "4534bf0d",
   "metadata": {},
   "source": [
    "- <h3><span style=\"color:blue\">OR</span>.</h3>"
   ]
  },
  {
   "cell_type": "code",
   "execution_count": 37,
   "id": "b3a47610",
   "metadata": {},
   "outputs": [
    {
     "name": "stdout",
     "output_type": "stream",
     "text": [
      "True\n"
     ]
    }
   ],
   "source": [
    "x = 5\n",
    "print(x>3 or x<4)"
   ]
  },
  {
   "cell_type": "markdown",
   "id": "f422583f",
   "metadata": {},
   "source": [
    "bernilai benar, jika ada salah satu kondisi yang benar"
   ]
  },
  {
   "cell_type": "markdown",
   "id": "7c97a9de",
   "metadata": {},
   "source": [
    "- <h3><span style=\"color:blue\">NOT</span>.</h3>"
   ]
  },
  {
   "cell_type": "code",
   "execution_count": 38,
   "id": "91e06705",
   "metadata": {},
   "outputs": [
    {
     "name": "stdout",
     "output_type": "stream",
     "text": [
      "False\n"
     ]
    }
   ],
   "source": [
    "x = 5\n",
    "print(not(x>3 and x<10))"
   ]
  },
  {
   "cell_type": "markdown",
   "id": "f5703a1d",
   "metadata": {},
   "source": [
    "## E. PYTHON IDENTITY OPERATORS"
   ]
  },
  {
   "cell_type": "markdown",
   "id": "893b1705",
   "metadata": {},
   "source": [
    "- <h3><span style=\"color:blue\">IS</span>.</h3>"
   ]
  },
  {
   "cell_type": "code",
   "execution_count": 40,
   "id": "5418ebbb",
   "metadata": {},
   "outputs": [
    {
     "name": "stdout",
     "output_type": "stream",
     "text": [
      "True\n",
      "False\n",
      "True\n"
     ]
    }
   ],
   "source": [
    "x = [\"apple\", \"banana\"]\n",
    "y = [\"apple\", \"banana\"]\n",
    "z = x\n",
    "\n",
    "print(x is z)\n",
    "\n",
    "# returns True because z is the same object as x\n",
    "\n",
    "print(x is y)\n",
    "\n",
    "# returns False because x is not the same object as y, even if they have the same content\n",
    "\n",
    "print(x == y)\n",
    "\n",
    "# to demonstrate the difference betweeen \"is\" and \"==\": this comparison returns True because x is equal to y"
   ]
  },
  {
   "cell_type": "markdown",
   "id": "3a4585ba",
   "metadata": {},
   "source": [
    "Returns True if a sequence with the specified value is present in the object"
   ]
  },
  {
   "cell_type": "markdown",
   "id": "6f047e78",
   "metadata": {},
   "source": [
    "- <h3><span style=\"color:blue\">IS NOT</span>.</h3>"
   ]
  },
  {
   "cell_type": "code",
   "execution_count": 42,
   "id": "68678805",
   "metadata": {},
   "outputs": [
    {
     "name": "stdout",
     "output_type": "stream",
     "text": [
      "False\n",
      "True\n",
      "False\n"
     ]
    }
   ],
   "source": [
    "x = [\"apple\", \"banana\"]\n",
    "y = [\"apple\", \"banana\"]\n",
    "z = x\n",
    "\n",
    "print(x is not z)\n",
    "\n",
    "# returns False because z is the same object as x\n",
    "\n",
    "print(x is not y)\n",
    "\n",
    "# returns True because x is not the same object as y, even if they have the same content\n",
    "\n",
    "print(x != y)\n",
    "\n",
    "# to demonstrate the difference betweeen \"is not\" and \"!=\": this comparison returns False because x is equal to y\n"
   ]
  },
  {
   "cell_type": "markdown",
   "id": "296d28a5",
   "metadata": {},
   "source": [
    "Returns True if both variables are not the same object"
   ]
  },
  {
   "cell_type": "markdown",
   "id": "0547ac88",
   "metadata": {},
   "source": [
    "## PYTHON MEMBERSHIP OPERATORS"
   ]
  },
  {
   "cell_type": "markdown",
   "id": "e0a18763",
   "metadata": {},
   "source": [
    "- ### IN"
   ]
  },
  {
   "cell_type": "code",
   "execution_count": 43,
   "id": "f431f9b8",
   "metadata": {},
   "outputs": [
    {
     "name": "stdout",
     "output_type": "stream",
     "text": [
      "True\n"
     ]
    }
   ],
   "source": [
    "x = [\"apple\", \"banana\"]\n",
    "\n",
    "print(\"banana\" in x)\n",
    "\n",
    "# returns True because a sequence with the value \"banana\" is in the list\n"
   ]
  },
  {
   "cell_type": "markdown",
   "id": "032822b9",
   "metadata": {},
   "source": [
    "Returns True if a sequence with the specified value is present in the object"
   ]
  },
  {
   "cell_type": "markdown",
   "id": "48fdaaae",
   "metadata": {},
   "source": [
    "- ### NOT IN"
   ]
  },
  {
   "cell_type": "code",
   "execution_count": 44,
   "id": "e0816fa5",
   "metadata": {},
   "outputs": [
    {
     "name": "stdout",
     "output_type": "stream",
     "text": [
      "True\n"
     ]
    }
   ],
   "source": [
    "x = [\"apple\", \"banana\"]\n",
    "\n",
    "print(\"pineapple\" not in x)\n",
    "\n",
    "# returns True because a sequence with the value \"pineapple\" is not in the list\n"
   ]
  },
  {
   "cell_type": "markdown",
   "id": "704b9ae4",
   "metadata": {},
   "source": [
    "Returns True if a sequence with the specified value is not present in the object"
   ]
  },
  {
   "cell_type": "markdown",
   "id": "fdf39262",
   "metadata": {},
   "source": [
    "## PYTHON BITWISE OPERATORS"
   ]
  },
  {
   "cell_type": "code",
   "execution_count": 46,
   "id": "07fc4939",
   "metadata": {},
   "outputs": [
    {
     "name": "stdout",
     "output_type": "stream",
     "text": [
      "1\n"
     ]
    }
   ],
   "source": [
    "print(5 & 3)"
   ]
  },
  {
   "cell_type": "code",
   "execution_count": 47,
   "id": "fba2064d",
   "metadata": {},
   "outputs": [
    {
     "name": "stdout",
     "output_type": "stream",
     "text": [
      "7\n"
     ]
    }
   ],
   "source": [
    "print(5 | 3)"
   ]
  },
  {
   "cell_type": "code",
   "execution_count": 48,
   "id": "c78d66d2",
   "metadata": {},
   "outputs": [
    {
     "name": "stdout",
     "output_type": "stream",
     "text": [
      "6\n"
     ]
    }
   ],
   "source": [
    "print(5 ^ 3)"
   ]
  },
  {
   "cell_type": "code",
   "execution_count": 49,
   "id": "155a82ea",
   "metadata": {},
   "outputs": [
    {
     "name": "stdout",
     "output_type": "stream",
     "text": [
      "0\n"
     ]
    }
   ],
   "source": [
    "print(5 >> 3)"
   ]
  },
  {
   "cell_type": "code",
   "execution_count": 50,
   "id": "dae291eb",
   "metadata": {},
   "outputs": [
    {
     "name": "stdout",
     "output_type": "stream",
     "text": [
      "40\n"
     ]
    }
   ],
   "source": [
    "print(5 << 3)"
   ]
  },
  {
   "cell_type": "code",
   "execution_count": 51,
   "id": "5aacdc41",
   "metadata": {},
   "outputs": [
    {
     "name": "stdout",
     "output_type": "stream",
     "text": [
      "-6\n"
     ]
    }
   ],
   "source": [
    "print(~5)"
   ]
  }
 ],
 "metadata": {
  "kernelspec": {
   "display_name": "Python 3",
   "language": "python",
   "name": "python3"
  },
  "language_info": {
   "codemirror_mode": {
    "name": "ipython",
    "version": 3
   },
   "file_extension": ".py",
   "mimetype": "text/x-python",
   "name": "python",
   "nbconvert_exporter": "python",
   "pygments_lexer": "ipython3",
   "version": "3.8.8"
  }
 },
 "nbformat": 4,
 "nbformat_minor": 5
}
