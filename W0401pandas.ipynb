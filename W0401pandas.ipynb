{
  "nbformat": 4,
  "nbformat_minor": 0,
  "metadata": {
    "colab": {
      "name": "pandas",
      "provenance": [],
      "authorship_tag": "ABX9TyPChrS1a+dxGb0qIEgFkT1u"
    },
    "kernelspec": {
      "name": "python3",
      "display_name": "Python 3"
    },
    "language_info": {
      "name": "python"
    }
  },
  "cells": [
    {
      "cell_type": "code",
      "execution_count": 1,
      "metadata": {
        "colab": {
          "base_uri": "https://localhost:8080/"
        },
        "id": "lhbneLME618a",
        "outputId": "027d4831-0716-4d4a-9f04-d2d59493a9f3"
      },
      "outputs": [
        {
          "output_type": "stream",
          "name": "stdout",
          "text": [
            "[[0 2]\n",
            " [1 3]]\n"
          ]
        }
      ],
      "source": [
        "import numpy as np\n",
        "# Create an array\n",
        "civilian_birth = np.array([4352, 233, 3245, 256, 2394])\n",
        "civilian_birth\n",
        "\n",
        "np.zeros((3, 6)) # special arrays with numpy\n",
        "\n",
        "np.linspace(0, 1, 5) # 0 to 1 (inclusive) with 5 points\n",
        "\n",
        "a = np.array([0, 1])\n",
        "b = np.array([2, 3])\n",
        "ab = np.stack((a, b)).T # stacking arrays\n",
        "print(ab)\n"
      ]
    },
    {
      "cell_type": "code",
      "source": [
        ""
      ],
      "metadata": {
        "id": "W4Tvf8yv68KL"
      },
      "execution_count": null,
      "outputs": []
    }
  ]
}